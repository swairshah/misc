{
 "cells": [
  {
   "cell_type": "markdown",
   "metadata": {},
   "source": [
    "Julia is a [Homoiconic](https://en.wikipedia.org/wiki/Homoiconicity) language. Meaning the code itself can be represented as a Julia data strcuture. We can parse a valid julia code as follows:"
   ]
  },
  {
   "cell_type": "code",
   "execution_count": 1,
   "metadata": {},
   "outputs": [
    {
     "data": {
      "text/plain": [
       ":(1 + 2)"
      ]
     },
     "execution_count": 1,
     "metadata": {},
     "output_type": "execute_result"
    }
   ],
   "source": [
    "program = \"1 + 2\"\n",
    "ex = Meta.parse(program)"
   ]
  },
  {
   "cell_type": "code",
   "execution_count": 2,
   "metadata": {},
   "outputs": [
    {
     "name": "stdout",
     "output_type": "stream",
     "text": [
      "Expr\n",
      "  head: Symbol call\n",
      "  args: Array{Any}((3,))\n",
      "    1: Symbol +\n",
      "    2: Int64 1\n",
      "    3: Int64 2\n"
     ]
    }
   ],
   "source": [
    "dump(ex)"
   ]
  },
  {
   "cell_type": "markdown",
   "metadata": {},
   "source": [
    "An expression has two parts, a `Symbol` indicating the type of the Expression and arguments for the expression. Which inturn can be symbols or expressions or literals. "
   ]
  },
  {
   "cell_type": "code",
   "execution_count": 3,
   "metadata": {},
   "outputs": [
    {
     "data": {
      "text/plain": [
       ":call"
      ]
     },
     "execution_count": 3,
     "metadata": {},
     "output_type": "execute_result"
    }
   ],
   "source": [
    "ex.head"
   ]
  },
  {
   "cell_type": "code",
   "execution_count": 4,
   "metadata": {},
   "outputs": [
    {
     "data": {
      "text/plain": [
       "3-element Array{Any,1}:\n",
       "  :+\n",
       " 1  \n",
       " 2  "
      ]
     },
     "execution_count": 4,
     "metadata": {},
     "output_type": "execute_result"
    }
   ],
   "source": [
    "ex.args"
   ]
  },
  {
   "cell_type": "markdown",
   "metadata": {},
   "source": [
    "Now that we know the strucutre of an expression we can construct expressions:"
   ]
  },
  {
   "cell_type": "code",
   "execution_count": 5,
   "metadata": {},
   "outputs": [
    {
     "data": {
      "text/plain": [
       ":(1 + 1)"
      ]
     },
     "execution_count": 5,
     "metadata": {},
     "output_type": "execute_result"
    }
   ],
   "source": [
    "ex  = Expr(:call, :+, 1, 1)"
   ]
  },
  {
   "cell_type": "markdown",
   "metadata": {},
   "source": [
    "and evaluate them..."
   ]
  },
  {
   "cell_type": "code",
   "execution_count": 6,
   "metadata": {},
   "outputs": [
    {
     "data": {
      "text/plain": [
       "2"
      ]
     },
     "execution_count": 6,
     "metadata": {},
     "output_type": "execute_result"
    }
   ],
   "source": [
    "eval(ex)"
   ]
  },
  {
   "cell_type": "code",
   "execution_count": 7,
   "metadata": {},
   "outputs": [
    {
     "name": "stdout",
     "output_type": "stream",
     "text": [
      "(:call, :+, 1, 1)"
     ]
    }
   ],
   "source": [
    "Meta.show_sexpr(ex)"
   ]
  },
  {
   "cell_type": "markdown",
   "metadata": {},
   "source": [
    "We can use these features of julia to build a simple symbolic differentiation function. (for polynomials, to make them work for general functions we'll need a table of derivatives of functions like e^x, sin, cos etc.)\n",
    "\n",
    "Since we have multiple dispatch we define 𝒹 function on different types of arguments separately. "
   ]
  },
  {
   "cell_type": "code",
   "execution_count": 8,
   "metadata": {},
   "outputs": [],
   "source": [
    "𝒹(x::Number, y::Symbol) = 0\n",
    "\n",
    "function 𝒹(x::Symbol, y::Symbol) \n",
    "    if x == y\n",
    "        return 1\n",
    "    else\n",
    "        return 0\n",
    "    end\n",
    "end;"
   ]
  },
  {
   "cell_type": "markdown",
   "metadata": {},
   "source": [
    "Now in order to differentiate on algebraic operations, we define separate functions for +,-,/,* and then a function which calls the appropriate function depending upon the first argument of the expression. \n",
    "\n",
    "Add and subtract functions are simple enough. "
   ]
  },
  {
   "cell_type": "code",
   "execution_count": 9,
   "metadata": {},
   "outputs": [],
   "source": [
    "function 𝒹_add(ex::Expr, y::Symbol)\n",
    "    n = length(ex.args)\n",
    "    new_args = Array{Any}(nothing, n)\n",
    "    new_args[1] = :+\n",
    "    for i in 2:n\n",
    "        new_args[i] = 𝒹(ex.args[i], y)\n",
    "    end\n",
    "    return Expr(:call, new_args...)\n",
    "end;\n",
    "\n",
    "function 𝒹_subtract(ex::Expr, y::Symbol)\n",
    "    n = length(ex.args)\n",
    "    new_args = Array{Any}(nothing, n)\n",
    "    new_args[1] = :-\n",
    "    for i in 2:n\n",
    "        new_args[i] = 𝒹(ex.args[i], y)\n",
    "    end\n",
    "    return Expr(:call, new_args...)\n",
    "end;"
   ]
  },
  {
   "cell_type": "code",
   "execution_count": 10,
   "metadata": {},
   "outputs": [
    {
     "data": {
      "text/plain": [
       ":(1 + 1 + 0)"
      ]
     },
     "execution_count": 10,
     "metadata": {},
     "output_type": "execute_result"
    }
   ],
   "source": [
    "ex = Meta.parse(\"x + x + y\")\n",
    "𝒹_add(ex, :x)"
   ]
  },
  {
   "cell_type": "markdown",
   "metadata": {},
   "source": [
    "For multiply we need the product rule,\n",
    "\n",
    "$ d(f*g) = d(f)*g + f*d(g) $\n",
    "\n",
    "But since `*` can have many arguments, \n",
    "\n",
    "$ d(f*g*h) = d(f)*g*h + f*d(g)*h + f*g*d(h) $\n",
    "\n",
    "If there are `n` arguments then there are `n` multiplications all need to be combined by a `+` call expression.\n",
    "We can implement each of the `*` expressions by traversing the arguments to the expression and each time we differentiate one argument while keeping the others same."
   ]
  },
  {
   "cell_type": "code",
   "execution_count": 11,
   "metadata": {},
   "outputs": [
    {
     "data": {
      "text/plain": [
       "𝒹_multiply (generic function with 1 method)"
      ]
     },
     "execution_count": 11,
     "metadata": {},
     "output_type": "execute_result"
    }
   ],
   "source": [
    "function 𝒹_multiply(ex::Expr, y::Symbol)\n",
    "    n = length(ex.args)\n",
    "    sum_args = Array{Any}(nothing, n)\n",
    "    sum_args[1] = :+\n",
    "    for i in 2:n\n",
    "        prod_args = Array{Any}(nothing, n)\n",
    "        prod_args[1] = :*\n",
    "        for j in 2:n\n",
    "            if j == i\n",
    "                prod_args[j] = 𝒹(ex.args[j], y)\n",
    "            else\n",
    "                prod_args[j] = ex.args[j]\n",
    "            end\n",
    "        end\n",
    "        sum_args[i] = Expr(:call, prod_args)\n",
    "    end\n",
    "    return Expr(:call, sum_args)\n",
    "end\n",
    "\n",
    "                "
   ]
  },
  {
   "cell_type": "code",
   "execution_count": 12,
   "metadata": {},
   "outputs": [
    {
     "data": {
      "text/plain": [
       ":((Any[:+, :((Any[:*, 0, :x])()), :((Any[:*, 2, 1])())])())"
      ]
     },
     "execution_count": 12,
     "metadata": {},
     "output_type": "execute_result"
    }
   ],
   "source": [
    "ex = Meta.parse(\"2*x\")\n",
    "𝒹_multiply(ex, :x)"
   ]
  },
  {
   "cell_type": "markdown",
   "metadata": {},
   "source": [
    "For divide we do not need loops as it accepts two arguments we can manually construct expressions for the division rule\n",
    "\n",
    "$ d(f/g) = d(f)/g - f*d(g)/g*g $"
   ]
  },
  {
   "cell_type": "code",
   "execution_count": 13,
   "metadata": {},
   "outputs": [
    {
     "data": {
      "text/plain": [
       "𝒹_divide (generic function with 1 method)"
      ]
     },
     "execution_count": 13,
     "metadata": {},
     "output_type": "execute_result"
    }
   ],
   "source": [
    "function 𝒹_divide(ex::Expr, y::Symbol)\n",
    "    neg_args = Array{Any}(nothing, 3)\n",
    "    neg_args[1] = :-\n",
    "    \n",
    "    neg_args[2] = Expr(:call, :/, 𝒹(ex.args[2], y), ex.args[3])\n",
    "    \n",
    "    neg_args[3] = Expr(:call, :/, (Expr(:call, :*, ex.args[2], 𝒹(ex.args[3], y))), Expr(:call, :*, ex.args[3], ex.args[3]))\n",
    "    \n",
    "    return Expr(:call, neg_args)\n",
    "end\n"
   ]
  },
  {
   "cell_type": "code",
   "execution_count": 14,
   "metadata": {},
   "outputs": [
    {
     "data": {
      "text/plain": [
       ":((Any[:-, :(0 / x), :((y * 1) / (x * x))])())"
      ]
     },
     "execution_count": 14,
     "metadata": {},
     "output_type": "execute_result"
    }
   ],
   "source": [
    "ex = Meta.parse(\"y/x\")\n",
    "𝒹_divide(ex, :x)"
   ]
  },
  {
   "cell_type": "code",
   "execution_count": 15,
   "metadata": {},
   "outputs": [
    {
     "data": {
      "text/plain": [
       "𝒹 (generic function with 3 methods)"
      ]
     },
     "execution_count": 15,
     "metadata": {},
     "output_type": "execute_result"
    }
   ],
   "source": [
    "function 𝒹(ex::Expr, y::Symbol)\n",
    "    if ex.head == :call\n",
    "        if ex.args[1] == :+\n",
    "            return 𝒹_add(ex, y)\n",
    "        elseif ex.args[1] == :-\n",
    "            return 𝒹_minus(ex, y)\n",
    "        elseif ex.args[1] == :*\n",
    "            return 𝒹_multiply(ex, y)\n",
    "        elseif ex.args[1] == :/\n",
    "            return 𝒹_divide(ex, y)\n",
    "        end\n",
    "    else\n",
    "        return 𝒹(ex.head)\n",
    "    end\n",
    "end\n",
    "        "
   ]
  },
  {
   "cell_type": "code",
   "execution_count": 16,
   "metadata": {},
   "outputs": [
    {
     "data": {
      "text/plain": [
       ":(1 + (Any[:+, :((Any[:*, 1, :x])()), :((Any[:*, :x, 1])())])())"
      ]
     },
     "execution_count": 16,
     "metadata": {},
     "output_type": "execute_result"
    }
   ],
   "source": [
    "𝒹(:(x + x*x), :x)"
   ]
  }
 ],
 "metadata": {
  "kernelspec": {
   "display_name": "Julia 1.3.0",
   "language": "julia",
   "name": "julia-1.3"
  },
  "language_info": {
   "file_extension": ".jl",
   "mimetype": "application/julia",
   "name": "julia",
   "version": "1.3.0"
  }
 },
 "nbformat": 4,
 "nbformat_minor": 4
}
