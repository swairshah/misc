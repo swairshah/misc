{
 "cells": [
  {
   "cell_type": "markdown",
   "metadata": {},
   "source": [
    "Playing around with symbolic maths in Julia I realized how good SymPy is compared to other symbolic computation libraries. I came across [this](https://mobile.twitter.com/ChadScherrer/status/1215479229866921984) tweet which shows the power of SymPy with julia MetaProgramming. "
   ]
  },
  {
   "cell_type": "code",
   "execution_count": 2,
   "metadata": {},
   "outputs": [],
   "source": [
    "import PyCall, SymPy\n",
    "using MLStyle\n",
    "stats = PyCall.pyimport_conda(\"sympy.stats\", \"sympy\")\n",
    "SymPy.import_from(stats)\n"
   ]
  },
  {
   "cell_type": "code",
   "execution_count": 3,
   "metadata": {},
   "outputs": [
    {
     "data": {
      "text/plain": [
       "@ℓ (macro with 1 method)"
      ]
     },
     "execution_count": 3,
     "metadata": {},
     "output_type": "execute_result"
    }
   ],
   "source": [
    "sym(x) = SymPy.symbols(x)\n",
    "\n",
    "macro ℓ(expr)\n",
    "    args = @match expr begin\n",
    "        Expr(head, args...) => return args\n",
    "    end\n",
    "\n",
    "    d = args[1]\n",
    "    ps = args[2:end]\n",
    "\n",
    "    quote \n",
    "        L = SymPy.density(stats.$d(:foo, sym.($ps)...)).pdf(sym(:x))\n",
    "        SymPy.sympy.expand_log(log(L), force=true)\n",
    "    end\n",
    "end\n"
   ]
  },
  {
   "cell_type": "markdown",
   "metadata": {},
   "source": [
    "This macro takes any expression like `Poisson(λ)` or `Normal(μ, σ)` and gives a log-likelihood expression for it. "
   ]
  },
  {
   "cell_type": "code",
   "execution_count": 4,
   "metadata": {},
   "outputs": [
    {
     "data": {
      "text/latex": [
       "\\begin{equation*}x \\log{\\left(λ \\right)} - λ - \\log{\\left(x! \\right)}\\end{equation*}"
      ],
      "text/plain": [
       "x⋅log(λ) - λ - log(x!)"
      ]
     },
     "execution_count": 4,
     "metadata": {},
     "output_type": "execute_result"
    }
   ],
   "source": [
    "@ℓ Poisson(λ)"
   ]
  },
  {
   "cell_type": "code",
   "execution_count": 5,
   "metadata": {},
   "outputs": [
    {
     "data": {
      "text/latex": [
       "\\begin{equation*}- \\log{\\left(σ \\right)} - \\frac{\\log{\\left(\\pi \\right)}}{2} - \\frac{\\log{\\left(2 \\right)}}{2} - \\frac{\\left(x - μ\\right)^{2}}{2 σ^{2}}\\end{equation*}"
      ],
      "text/plain": [
       "                                   2\n",
       "          log(π)   log(2)   (x - μ) \n",
       "-log(σ) - ────── - ────── - ────────\n",
       "            2        2           2  \n",
       "                              2⋅σ   "
      ]
     },
     "execution_count": 5,
     "metadata": {},
     "output_type": "execute_result"
    }
   ],
   "source": [
    "@ℓ Normal(μ, σ)"
   ]
  },
  {
   "cell_type": "code",
   "execution_count": 27,
   "metadata": {},
   "outputs": [
    {
     "data": {
      "text/plain": [
       "-7.697414907005954315982008545315635792398898511371227023966672099032427390322668"
      ]
     },
     "execution_count": 27,
     "metadata": {},
     "output_type": "execute_result"
    }
   ],
   "source": [
    "SymPy.N((@ℓ Poisson(λ))(10)(1))"
   ]
  }
 ],
 "metadata": {
  "kernelspec": {
   "display_name": "Julia 1.3.0",
   "language": "julia",
   "name": "julia-1.3"
  },
  "language_info": {
   "file_extension": ".jl",
   "mimetype": "application/julia",
   "name": "julia",
   "version": "1.3.0"
  }
 },
 "nbformat": 4,
 "nbformat_minor": 4
}
