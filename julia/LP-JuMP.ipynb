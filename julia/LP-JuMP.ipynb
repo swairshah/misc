{
 "cells": [
  {
   "cell_type": "code",
   "execution_count": 1,
   "metadata": {},
   "outputs": [],
   "source": [
    "using JuMP, GLPK"
   ]
  },
  {
   "cell_type": "code",
   "execution_count": 2,
   "metadata": {},
   "outputs": [],
   "source": [
    "m = Model(with_optimizer(GLPK.Optimizer));\n",
    "\n",
    "c = [1; 2; 5]\n",
    "A = [-1 1 3;\n",
    "      1 3 -7]\n",
    "b = [-5; 10];"
   ]
  },
  {
   "cell_type": "code",
   "execution_count": 3,
   "metadata": {},
   "outputs": [],
   "source": [
    "@variable(m, x[1:3] >= 0);"
   ]
  },
  {
   "cell_type": "code",
   "execution_count": 4,
   "metadata": {},
   "outputs": [
    {
     "data": {
      "text/latex": [
       "$ -x_{1} + x_{2} + 3 x_{3} \\leq -5.0 $"
      ],
      "text/plain": [
       "-x[1] + x[2] + 3 x[3] ≤ -5.0"
      ]
     },
     "metadata": {},
     "output_type": "display_data"
    },
    {
     "data": {
      "text/latex": [
       "$ x_{1} + 3 x_{2} - 7 x_{3} \\leq 10.0 $"
      ],
      "text/plain": [
       "x[1] + 3 x[2] - 7 x[3] ≤ 10.0"
      ]
     },
     "metadata": {},
     "output_type": "display_data"
    }
   ],
   "source": [
    "constraint = Dict()\n",
    "for j in 1:2\n",
    "    constraint[j] = @constraint(m, sum(A[j,i]*x[i] for i in 1:3) <= b[j])\n",
    "    display(constraint[j])\n",
    "end"
   ]
  },
  {
   "cell_type": "code",
   "execution_count": 5,
   "metadata": {},
   "outputs": [
    {
     "data": {
      "text/latex": [
       "$$ x_{1} + 2 x_{2} + 5 x_{3} $$"
      ],
      "text/plain": [
       "x[1] + 2 x[2] + 5 x[3]"
      ]
     },
     "execution_count": 5,
     "metadata": {},
     "output_type": "execute_result"
    }
   ],
   "source": [
    "@objective(m, Max, sum( c[i]*x[i] for i in 1:3))"
   ]
  },
  {
   "cell_type": "code",
   "execution_count": 6,
   "metadata": {},
   "outputs": [
    {
     "data": {
      "text/latex": [
       "bound : $ x_{1} \\leq 10.0 $"
      ],
      "text/plain": [
       "bound : x[1] ≤ 10.0"
      ]
     },
     "execution_count": 6,
     "metadata": {},
     "output_type": "execute_result"
    }
   ],
   "source": [
    "@constraint(m, bound, x[1] <= 10)"
   ]
  },
  {
   "cell_type": "code",
   "execution_count": 7,
   "metadata": {},
   "outputs": [
    {
     "name": "stdout",
     "output_type": "stream",
     "text": [
      "Solution:\n",
      "x[1] = 10.0\n",
      "x[2] = 2.1875\n",
      "x[3] = 0.9375\n"
     ]
    }
   ],
   "source": [
    "JuMP.optimize!(m)\n",
    "\n",
    "println(\"Solution:\")\n",
    "for i in 1:3\n",
    "    println(\"x[$i] = \", JuMP.value(x[i]))\n",
    "end"
   ]
  },
  {
   "cell_type": "code",
   "execution_count": 8,
   "metadata": {},
   "outputs": [
    {
     "name": "stdout",
     "output_type": "stream",
     "text": [
      "Dual Variables:\n",
      "dual[1] = 1.8125\n",
      "dual[2] = 0.06250000000000003\n"
     ]
    }
   ],
   "source": [
    "println(\"Dual Variables:\")\n",
    "for j in 1:2\n",
    "    println(\"dual[$j] = \", JuMP.shadow_price(constraint[j]))\n",
    "end"
   ]
  },
  {
   "cell_type": "code",
   "execution_count": null,
   "metadata": {},
   "outputs": [],
   "source": []
  }
 ],
 "metadata": {
  "kernelspec": {
   "display_name": "Julia 1.3.0",
   "language": "julia",
   "name": "julia-1.3"
  },
  "language_info": {
   "file_extension": ".jl",
   "mimetype": "application/julia",
   "name": "julia",
   "version": "1.3.0"
  }
 },
 "nbformat": 4,
 "nbformat_minor": 4
}
