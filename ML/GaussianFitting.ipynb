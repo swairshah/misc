{
 "cells": [
  {
   "cell_type": "code",
   "execution_count": 1,
   "metadata": {},
   "outputs": [],
   "source": [
    "import numpy as np\n",
    "import matplotlib.pyplot as plt\n",
    "import seaborn as sns\n",
    "from collections import defaultdict\n",
    "import seaborn as sns\n",
    "from scipy.stats import norm\n",
    "%matplotlib inline"
   ]
  },
  {
   "cell_type": "code",
   "execution_count": 2,
   "metadata": {},
   "outputs": [],
   "source": [
    "import torch\n",
    "import torch.nn as nn\n",
    "import torch.optim as optim\n",
    "from torch.autograd import Variable\n",
    "import torch.nn.functional as F\n",
    "import torch.utils.data as torch_data"
   ]
  },
  {
   "cell_type": "code",
   "execution_count": 3,
   "metadata": {},
   "outputs": [],
   "source": [
    "A = np.random.normal(loc=0.3,scale=0.1,size=50000)\n",
    "B = np.random.normal(loc=0.8,scale=0.04,size=50000)\n",
    "\n",
    "data = np.hstack((A, B))\n",
    "data = np.digitize(data, np.linspace(0.0, 1.0, 100))"
   ]
  },
  {
   "cell_type": "code",
   "execution_count": null,
   "metadata": {},
   "outputs": [],
   "source": []
  },
  {
   "cell_type": "code",
   "execution_count": 4,
   "metadata": {},
   "outputs": [
    {
     "name": "stdout",
     "output_type": "stream",
     "text": [
      "CPU times: user 71.8 ms, sys: 3.89 ms, total: 75.7 ms\n",
      "Wall time: 75.3 ms\n"
     ]
    },
    {
     "data": {
      "image/png": "[encoded data removed]",
      "text/plain": [
       "<Figure size 432x288 with 1 Axes>"
      ]
     },
     "metadata": {
      "needs_background": "light"
     },
     "output_type": "display_data"
    }
   ],
   "source": [
    "%%time\n",
    "vals = plt.hist(data, bins=np.arange(100)-0.5)"
   ]
  },
  {
   "cell_type": "code",
   "execution_count": null,
   "metadata": {},
   "outputs": [],
   "source": []
  },
  {
   "cell_type": "markdown",
   "metadata": {},
   "source": [
    "## Binomial parameter fitting example"
   ]
  },
  {
   "cell_type": "code",
   "execution_count": 6,
   "metadata": {},
   "outputs": [],
   "source": [
    "data = np.random.binomial(1, p=0.3, size=1000)\n",
    "x = Variable(torch.from_numpy(data)).type(torch.FloatTensor)\n",
    "p = Variable(torch.rand(1), requires_grad=True)\n",
    "\n",
    "lr = 0.00002\n",
    "for t in range(1000):\n",
    "    NLL = -torch.sum(torch.log(x*p + (1-x)*(1-p)) )\n",
    "    NLL.backward()\n",
    "\n",
    "    #if t % 100 == 0:\n",
    "    #    print(\"loglik  =\", NLL.data.numpy(), \"p =\", p.data.numpy(), \"dL/dp = \", p.grad.data.numpy())\n",
    "\n",
    "    p.data -= lr * p.grad.data\n",
    "    p.grad.data.zero_()"
   ]
  },
  {
   "cell_type": "markdown",
   "metadata": {},
   "source": [
    "## Gaussian "
   ]
  },
  {
   "cell_type": "code",
   "execution_count": 29,
   "metadata": {},
   "outputs": [
    {
     "name": "stdout",
     "output_type": "stream",
     "text": [
      "tensor([0.1701], requires_grad=True) tensor([1.0239], grad_fn=<ExpBackward>)\n",
      "tensor([10.0012], requires_grad=True) tensor([36.5839], grad_fn=<ExpBackward>)\n",
      "tensor([10.0012], requires_grad=True) tensor([36.5839], grad_fn=<ExpBackward>)\n",
      "tensor([10.0012], requires_grad=True) tensor([36.5839], grad_fn=<ExpBackward>)\n",
      "tensor([10.0012], requires_grad=True) tensor([36.5839], grad_fn=<ExpBackward>)\n",
      "tensor([10.0012], requires_grad=True) tensor([36.5839], grad_fn=<ExpBackward>)\n",
      "tensor([10.0012], requires_grad=True) tensor([36.5839], grad_fn=<ExpBackward>)\n",
      "tensor([10.0012], requires_grad=True) tensor([36.5839], grad_fn=<ExpBackward>)\n",
      "tensor([10.0012], requires_grad=True) tensor([36.5839], grad_fn=<ExpBackward>)\n",
      "tensor([10.0012], requires_grad=True) tensor([36.5839], grad_fn=<ExpBackward>)\n",
      "tensor([10.0012], requires_grad=True) tensor([36.5839], grad_fn=<ExpBackward>)\n"
     ]
    }
   ],
   "source": [
    "\n",
    "data = np.random.normal(10, 6, size=1000)\n",
    "x = Variable(torch.from_numpy(data)).type(torch.FloatTensor)\n",
    "mu = Variable(torch.rand(1), requires_grad=True)\n",
    "logvar = Variable(torch.rand(1), requires_grad=True)\n",
    "\n",
    "lr = 0.0002\n",
    "epochs = 100000\n",
    "for t in range(epochs):\n",
    "    log_p = 0.5 * (logvar + (x - mu) ** 2 / logvar.exp())\n",
    "    NLL = log_p.sum(-1)\n",
    "    NLL.backward()\n",
    "\n",
    "    if t % (epochs//10) == 0:\n",
    "        print(mu, logvar.exp())\n",
    "\n",
    "    mu.data -= lr * mu.grad.data\n",
    "    logvar.data -= lr * logvar.grad.data\n",
    "    mu.grad.data.zero_()\n",
    "    logvar.grad.data.zero_()\n",
    "    \n",
    "print(mu, logvar.exp())"
   ]
  },
  {
   "cell_type": "markdown",
   "metadata": {},
   "source": [
    "## Gaussian "
   ]
  },
  {
   "cell_type": "code",
   "execution_count": 28,
   "metadata": {},
   "outputs": [
    {
     "name": "stdout",
     "output_type": "stream",
     "text": [
      "tensor([0.1811], requires_grad=True) tensor([0.8447], requires_grad=True)\n",
      "tensor([9.8275], requires_grad=True) tensor([10.5182], requires_grad=True)\n",
      "tensor([10.0815], requires_grad=True) tensor([12.4405], requires_grad=True)\n",
      "tensor([10.0957], requires_grad=True) tensor([13.9014], requires_grad=True)\n",
      "tensor([10.0957], requires_grad=True) tensor([15.1067], requires_grad=True)\n",
      "tensor([10.0957], requires_grad=True) tensor([16.1442], requires_grad=True)\n",
      "tensor([10.0957], requires_grad=True) tensor([17.0643], requires_grad=True)\n",
      "tensor([10.0957], requires_grad=True) tensor([17.8936], requires_grad=True)\n",
      "tensor([10.0957], requires_grad=True) tensor([18.6538], requires_grad=True)\n",
      "tensor([10.0957], requires_grad=True) tensor([19.3544], requires_grad=True)\n",
      "tensor([10.0957], requires_grad=True) tensor([20.0072], requires_grad=True)\n"
     ]
    }
   ],
   "source": [
    "data = np.random.normal(10, 4, size=1000)\n",
    "x = Variable(torch.from_numpy(data)).type(torch.FloatTensor)\n",
    "mu = Variable(torch.rand(1), requires_grad=True)\n",
    "var = Variable(torch.rand(1), requires_grad=True)\n",
    "\n",
    "lr = 0.0005\n",
    "epochs = 300000\n",
    "for t in range(epochs):\n",
    "    #NLL = - torch.mean(torch.log((x - mu)**2 / var))\n",
    "    NLL = torch.mean((x - mu)**2 / var)\n",
    "    NLL.backward()\n",
    "\n",
    "    if t % (epochs//10) == 0:\n",
    "        print(mu, var)\n",
    "    #    print(\"loglik  =\", NLL.data.numpy(), \"mu =\", mu.data.numpy(),\n",
    "    #          \"var =\", var.data.numpy())\n",
    "\n",
    "    mu.data -= lr * mu.grad.data\n",
    "    var.data -= lr * var.grad.data\n",
    "    mu.grad.data.zero_()\n",
    "    var.grad.data.zero_()\n",
    "    \n",
    "print(mu, var)"
   ]
  },
  {
   "cell_type": "code",
   "execution_count": null,
   "metadata": {},
   "outputs": [],
   "source": []
  },
  {
   "cell_type": "code",
   "execution_count": 42,
   "metadata": {},
   "outputs": [],
   "source": [
    "# logits = nn.Parameter(torch.zeros(1000))\n",
    "# logits = logits.unsqueeze(0).repeat(x.shape[0], 1)\n",
    "# F.cross_entropy(logits, x.long())\n",
    "#F.cross_entropy(logits.unsqueeze(0).repeat(x.shape[0], 1), x.long())"
   ]
  },
  {
   "cell_type": "code",
   "execution_count": null,
   "metadata": {},
   "outputs": [],
   "source": []
  }
 ],
 "metadata": {
  "kernelspec": {
   "display_name": "Python 3",
   "language": "python",
   "name": "python3"
  },
  "language_info": {
   "codemirror_mode": {
    "name": "ipython",
    "version": 3
   },
   "file_extension": ".py",
   "mimetype": "text/x-python",
   "name": "python",
   "nbconvert_exporter": "python",
   "pygments_lexer": "ipython3",
   "version": "3.8.1"
  }
 },
 "nbformat": 4,
 "nbformat_minor": 4
}
