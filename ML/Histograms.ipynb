{
 "cells": [
  {
   "cell_type": "code",
   "execution_count": 1,
   "metadata": {},
   "outputs": [],
   "source": [
    "import numpy as np\n",
    "import matplotlib.pyplot as plt\n",
    "import seaborn as sns\n",
    "from collections import defaultdict\n",
    "%matplotlib inline"
   ]
  },
  {
   "cell_type": "code",
   "execution_count": 2,
   "metadata": {},
   "outputs": [],
   "source": [
    "A = np.random.normal(loc=50,scale=10,size=50000)\n",
    "B = np.random.normal(loc=100,scale=5,size=50000)\n",
    "\n",
    "X = np.hstack((A, B))\n",
    "# a, b = X.min(), X.max()\n",
    "# [(a+i*delta, a+(i+1)*delta,  a+(i+1/2)*delta) for i in range(100)]"
   ]
  },
  {
   "cell_type": "code",
   "execution_count": 3,
   "metadata": {},
   "outputs": [
    {
     "name": "stdout",
     "output_type": "stream",
     "text": [
      "CPU times: user 99.1 ms, sys: 4.47 ms, total: 104 ms\n",
      "Wall time: 107 ms\n"
     ]
    },
    {
     "data": {
      "image/png": "[encoded data removed]",
      "text/plain": [
       "<Figure size 432x288 with 1 Axes>"
      ]
     },
     "metadata": {
      "needs_background": "light"
     },
     "output_type": "display_data"
    }
   ],
   "source": [
    "%%time\n",
    "vals = plt.hist(X, bins=100)"
   ]
  },
  {
   "cell_type": "code",
   "execution_count": 4,
   "metadata": {},
   "outputs": [
    {
     "name": "stdout",
     "output_type": "stream",
     "text": [
      "CPU times: user 2 µs, sys: 1 µs, total: 3 µs\n",
      "Wall time: 4.77 µs\n"
     ]
    },
    {
     "data": {
      "text/plain": [
       "<BarContainer object of 100 artists>"
      ]
     },
     "execution_count": 4,
     "metadata": {},
     "output_type": "execute_result"
    },
    {
     "data": {
      "image/png": "[encoded data removed]",
      "text/plain": [
       "<Figure size 432x288 with 1 Axes>"
      ]
     },
     "metadata": {
      "needs_background": "light"
     },
     "output_type": "display_data"
    }
   ],
   "source": [
    "def Hist(X, bins=100):\n",
    "    a, b = X.min(), X.max()\n",
    "    n = len(X)\n",
    "    delta = (b - a)/bins\n",
    "    centers = []\n",
    "    values = []\n",
    "    lookup = defaultdict(int)\n",
    "    for (i,j,k) in [(a+l*delta, a+(l+1/2)*delta,  a+(l+1)*delta) for l in range(bins)]:\n",
    "        centers.append(j)\n",
    "        values.append(len(X[(X >= i) & (X <= k)]))\n",
    "        lookup[centers[-1]] = values[-1]\n",
    "    return centers, values, lookup\n",
    "\n",
    "%time\n",
    "P = Hist(X, bins=100)\n",
    "plt.bar(P[0], P[1])"
   ]
  },
  {
   "cell_type": "code",
   "execution_count": 5,
   "metadata": {},
   "outputs": [
    {
     "name": "stdout",
     "output_type": "stream",
     "text": [
      "CPU times: user 2 µs, sys: 1e+03 ns, total: 3 µs\n",
      "Wall time: 5.01 µs\n"
     ]
    },
    {
     "data": {
      "text/plain": [
       "<BarContainer object of 96 artists>"
      ]
     },
     "execution_count": 5,
     "metadata": {},
     "output_type": "execute_result"
    },
    {
     "data": {
      "image/png": "[encoded data removed]",
      "text/plain": [
       "<Figure size 432x288 with 1 Axes>"
      ]
     },
     "metadata": {
      "needs_background": "light"
     },
     "output_type": "display_data"
    }
   ],
   "source": [
    "def Hist(X, bins=100):\n",
    "    a, b = X.min(), X.max()\n",
    "    delta = (b - a)/bins\n",
    "    bin_values = defaultdict(int)\n",
    "    ranges = [(a+i*delta, a+(i+1/2)*delta, a+(i+1)*delta) for i in range(bins)] \n",
    "    idx = 0\n",
    "    for i in sorted(X):\n",
    "        if ranges[idx][0] <= i <= ranges[idx][2]:\n",
    "            bin_values[ranges[idx][1]] += 1\n",
    "        else:\n",
    "            idx += 1\n",
    "    return list(bin_values.keys()), list(bin_values.values()), bin_values\n",
    "    \n",
    "%time\n",
    "P = Hist(X, bins=100)\n",
    "plt.bar(P[0], P[1])"
   ]
  },
  {
   "cell_type": "code",
   "execution_count": 6,
   "metadata": {},
   "outputs": [],
   "source": [
    "class Hist:\n",
    "    def __init__(self, X, bins=100):\n",
    "        self._check(X)\n",
    "        self.bins = 100\n",
    "        self.size = len(X)\n",
    "        self.centers, self.values, self.lookup = self._fit(X, bins=self.bins)\n",
    "        self.cumulative = np.cumsum(self.values/self.size)\n",
    "    \n",
    "    def sample(self, size=1):\n",
    "        indices = [np.searchsorted(self.cumulative, np.random.uniform())\\\n",
    "                   for i in range(size)]\n",
    "        return self.centers[indices]\n",
    "          \n",
    "    def _check(self, X):\n",
    "        assert(len(X.shape) == 1), \"only supported for 1-d data\"\n",
    "\n",
    "    def _fit(self, X, bins):\n",
    "        a, b = X.min(), X.max()\n",
    "        n = len(X)\n",
    "        delta = (b - a)/bins\n",
    "        centers = []\n",
    "        values = []\n",
    "        lookup = defaultdict(int)\n",
    "        for (i,j,k) in [(a+l*delta, a+(l+1/2)*delta,  a+(l+1)*delta) for l in range(bins)]:\n",
    "            centers.append(j)\n",
    "            values.append(len(X[(X >= i) & (X <= k)]))\n",
    "            lookup[centers[-1]] = values[-1]/self.size\n",
    "        return np.array(centers), np.array(values), lookup\n",
    "    \n",
    "    def _fit2(self, X, bins):\n",
    "        a, b = X.min(), X.max()\n",
    "        delta = (b - a)/bins\n",
    "        bin_values = defaultdict(int)\n",
    "        ranges = [(a+i*delta, a+(i+1/2)*delta, a+(i+1)*delta) for i in range(bins)] \n",
    "        idx = 0\n",
    "        for i in sorted(X):\n",
    "            if ranges[idx][0] <= i <= ranges[idx][2]:\n",
    "                bin_values[ranges[idx][1]] += 1\n",
    "            else:\n",
    "                idx += 1\n",
    "        return np.array(bin_values.keys()), np.array(bin_values.values()/len(X)), bin_values\n",
    "            "
   ]
  },
  {
   "cell_type": "code",
   "execution_count": 7,
   "metadata": {},
   "outputs": [
    {
     "data": {
      "image/png": "[encoded data removed]",
      "text/plain": [
       "<Figure size 432x288 with 1 Axes>"
      ]
     },
     "metadata": {
      "needs_background": "light"
     },
     "output_type": "display_data"
    }
   ],
   "source": [
    "h = Hist(X, bins=100)\n",
    "s = h.sample(size=10000)\n",
    "plt.hist(s,bins=50);"
   ]
  },
  {
   "cell_type": "code",
   "execution_count": null,
   "metadata": {},
   "outputs": [],
   "source": []
  },
  {
   "cell_type": "code",
   "execution_count": null,
   "metadata": {},
   "outputs": [],
   "source": []
  }
 ],
 "metadata": {
  "kernelspec": {
   "display_name": "Python 3",
   "language": "python",
   "name": "python3"
  },
  "language_info": {
   "codemirror_mode": {
    "name": "ipython",
    "version": 3
   },
   "file_extension": ".py",
   "mimetype": "text/x-python",
   "name": "python",
   "nbconvert_exporter": "python",
   "pygments_lexer": "ipython3",
   "version": "3.8.1"
  }
 },
 "nbformat": 4,
 "nbformat_minor": 2
}
